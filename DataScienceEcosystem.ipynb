{
 "cells": [
  {
   "cell_type": "markdown",
   "id": "5b124c29-6b9a-49ac-bf7c-562f04e79588",
   "metadata": {},
   "source": [
    "# Data Science Tools and Ecosystem"
   ]
  },
  {
   "cell_type": "markdown",
   "id": "c4a6c9ae-d53a-4135-80c3-f1f36fbe05f5",
   "metadata": {
    "tags": []
   },
   "source": [
    "# In this notebook, Data Science Tools and Ecosystem are summarized."
   ]
  },
  {
   "cell_type": "markdown",
   "id": "1e09440c-77c2-47d9-a0a6-142f2ec85a9f",
   "metadata": {},
   "source": [
    "## Objectives:\n",
    "\n",
    "* Create a markdown cell to list data science languages\n",
    "* Create a markdown cell to list data science libraries\n",
    "* Create a markdown cell with a table of Data Science tools\n",
    "* Create a markdown cell introducing arithmetic expression examples\n",
    "* Create a code cell to multiply and add numbers\n",
    "* Create a code cell to convert minutes to hours\n",
    "* Insert a markdown cell to list Objectives"
   ]
  },
  {
   "cell_type": "markdown",
   "id": "8778f446-388d-497d-9954-057247279c93",
   "metadata": {
    "jp-MarkdownHeadingCollapsed": true,
    "tags": []
   },
   "source": [
    "### Some of the popular languages that Data Scientists use are:\n",
    "\n",
    "1. Python\n",
    "2. HTML\n",
    "3. SQL\n",
    "4. R programing\n",
    "5. C language"
   ]
  },
  {
   "cell_type": "markdown",
   "id": "615dc37e-8db9-48e4-9e24-73b1a4db98f8",
   "metadata": {},
   "source": [
    "### Some of the commonly used libraries used by Data Scientists include:\n",
    "1. NumPy\n",
    "2. Panda\n",
    "3. Matpotlib"
   ]
  },
  {
   "cell_type": "markdown",
   "id": "6947b569-e8c0-4d45-9cf9-427ece156baa",
   "metadata": {},
   "source": [
    "| Data Science Tools |\n",
    "| -------------|\n",
    "| Jupyter Notebook | \n",
    "| R Studio | \n",
    "| Spyder | "
   ]
  },
  {
   "cell_type": "markdown",
   "id": "a85f5952-5f59-45f1-9374-9ce6fb8adb55",
   "metadata": {},
   "source": [
    "### Below are a few examples of evaluating arithmetic expressions in Python"
   ]
  },
  {
   "cell_type": "code",
   "execution_count": 3,
   "id": "c226fc4d-38b1-4edb-a010-f458d0e8d0b0",
   "metadata": {},
   "outputs": [
    {
     "data": {
      "text/plain": [
       "17"
      ]
     },
     "execution_count": 3,
     "metadata": {},
     "output_type": "execute_result"
    }
   ],
   "source": [
    "# This a simple arithmetic expression to mutiply then add integers\n",
    "(3*4)+5"
   ]
  },
  {
   "cell_type": "code",
   "execution_count": 5,
   "id": "4f04fcb1-0c3f-461c-bd50-4e72d1b02511",
   "metadata": {},
   "outputs": [
    {
     "data": {
      "text/plain": [
       "3.3333333333333335"
      ]
     },
     "execution_count": 5,
     "metadata": {},
     "output_type": "execute_result"
    }
   ],
   "source": [
    "# This will convert 200 minutes to hours by diving by 60\n",
    "200/60"
   ]
  },
  {
   "cell_type": "markdown",
   "id": "01c00a2e-8e6f-443f-89ef-3ecfe183c3fe",
   "metadata": {},
   "source": [
    "## Author- Sahil Anand"
   ]
  },
  {
   "cell_type": "code",
   "execution_count": null,
   "id": "d274c437-afaa-4935-a104-e14f7ab5ba72",
   "metadata": {},
   "outputs": [],
   "source": []
  }
 ],
 "metadata": {
  "kernelspec": {
   "display_name": "Python",
   "language": "python",
   "name": "conda-env-python-py"
  },
  "language_info": {
   "codemirror_mode": {
    "name": "ipython",
    "version": 3
   },
   "file_extension": ".py",
   "mimetype": "text/x-python",
   "name": "python",
   "nbconvert_exporter": "python",
   "pygments_lexer": "ipython3",
   "version": "3.7.12"
  }
 },
 "nbformat": 4,
 "nbformat_minor": 5
}
